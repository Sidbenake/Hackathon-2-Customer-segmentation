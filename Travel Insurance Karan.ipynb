{
 "cells": [
  {
   "cell_type": "code",
   "execution_count": 1,
   "metadata": {},
   "outputs": [],
   "source": [
    "import pandas as pd\n",
    "import numpy as np\n",
    "import matplotlib.pyplot as plt\n",
    "import seaborn as sns\n",
    "import warnings\n",
    "warnings.filterwarnings(\"ignore\")\n",
    "from IPython.core.interactiveshell import InteractiveShell\n",
    "InteractiveShell.ast_node_interactivity = \"all\""
   ]
  },
  {
   "cell_type": "code",
   "execution_count": 2,
   "metadata": {},
   "outputs": [],
   "source": [
    "data = pd.read_csv(\"train.csv\")\n",
    "test = pd.read_csv(\"test.csv\")"
   ]
  },
  {
   "cell_type": "code",
   "execution_count": 3,
   "metadata": {},
   "outputs": [
    {
     "data": {
      "text/plain": [
       "(52310, 11)"
      ]
     },
     "execution_count": 3,
     "metadata": {},
     "output_type": "execute_result"
    }
   ],
   "source": [
    "data.shape"
   ]
  },
  {
   "cell_type": "code",
   "execution_count": 4,
   "metadata": {},
   "outputs": [
    {
     "data": {
      "text/plain": [
       "(22421, 10)"
      ]
     },
     "execution_count": 4,
     "metadata": {},
     "output_type": "execute_result"
    }
   ],
   "source": [
    "test.shape"
   ]
  },
  {
   "cell_type": "code",
   "execution_count": 5,
   "metadata": {},
   "outputs": [
    {
     "name": "stdout",
     "output_type": "stream",
     "text": [
      "<class 'pandas.core.frame.DataFrame'>\n",
      "RangeIndex: 52310 entries, 0 to 52309\n",
      "Data columns (total 11 columns):\n",
      " #   Column                Non-Null Count  Dtype  \n",
      "---  ------                --------------  -----  \n",
      " 0   ID                    52310 non-null  int64  \n",
      " 1   Agency                52310 non-null  object \n",
      " 2   Agency Type           52310 non-null  object \n",
      " 3   Distribution Channel  52310 non-null  object \n",
      " 4   Product Name          52310 non-null  object \n",
      " 5   Duration              52310 non-null  int64  \n",
      " 6   Destination           52310 non-null  object \n",
      " 7   Net Sales             52310 non-null  float64\n",
      " 8   Commision (in value)  52310 non-null  float64\n",
      " 9   Age                   52310 non-null  int64  \n",
      " 10  Claim                 52310 non-null  int64  \n",
      "dtypes: float64(2), int64(4), object(5)\n",
      "memory usage: 4.4+ MB\n"
     ]
    }
   ],
   "source": [
    "data.info()"
   ]
  },
  {
   "cell_type": "code",
   "execution_count": 6,
   "metadata": {},
   "outputs": [],
   "source": [
    "test_id = test.iloc[:,0]"
   ]
  },
  {
   "cell_type": "code",
   "execution_count": 7,
   "metadata": {},
   "outputs": [],
   "source": [
    "data.drop(columns= \"ID\",inplace=True)\n",
    "test.drop(columns=\"ID\",inplace=True)"
   ]
  },
  {
   "cell_type": "code",
   "execution_count": 8,
   "metadata": {},
   "outputs": [
    {
     "data": {
      "text/html": [
       "<div>\n",
       "<style scoped>\n",
       "    .dataframe tbody tr th:only-of-type {\n",
       "        vertical-align: middle;\n",
       "    }\n",
       "\n",
       "    .dataframe tbody tr th {\n",
       "        vertical-align: top;\n",
       "    }\n",
       "\n",
       "    .dataframe thead th {\n",
       "        text-align: right;\n",
       "    }\n",
       "</style>\n",
       "<table border=\"1\" class=\"dataframe\">\n",
       "  <thead>\n",
       "    <tr style=\"text-align: right;\">\n",
       "      <th></th>\n",
       "      <th>Agency</th>\n",
       "      <th>Agency Type</th>\n",
       "      <th>Distribution Channel</th>\n",
       "      <th>Product Name</th>\n",
       "      <th>Duration</th>\n",
       "      <th>Destination</th>\n",
       "      <th>Net Sales</th>\n",
       "      <th>Commision (in value)</th>\n",
       "      <th>Age</th>\n",
       "      <th>Claim</th>\n",
       "    </tr>\n",
       "  </thead>\n",
       "  <tbody>\n",
       "    <tr>\n",
       "      <th>0</th>\n",
       "      <td>EPX</td>\n",
       "      <td>Travel Agency</td>\n",
       "      <td>Online</td>\n",
       "      <td>Cancellation Plan</td>\n",
       "      <td>61</td>\n",
       "      <td>PHILIPPINES</td>\n",
       "      <td>12.0</td>\n",
       "      <td>0.00</td>\n",
       "      <td>41</td>\n",
       "      <td>0</td>\n",
       "    </tr>\n",
       "    <tr>\n",
       "      <th>1</th>\n",
       "      <td>EPX</td>\n",
       "      <td>Travel Agency</td>\n",
       "      <td>Online</td>\n",
       "      <td>Cancellation Plan</td>\n",
       "      <td>4</td>\n",
       "      <td>MALAYSIA</td>\n",
       "      <td>17.0</td>\n",
       "      <td>0.00</td>\n",
       "      <td>35</td>\n",
       "      <td>0</td>\n",
       "    </tr>\n",
       "    <tr>\n",
       "      <th>2</th>\n",
       "      <td>CWT</td>\n",
       "      <td>Travel Agency</td>\n",
       "      <td>Online</td>\n",
       "      <td>Rental Vehicle Excess Insurance</td>\n",
       "      <td>26</td>\n",
       "      <td>THAILAND</td>\n",
       "      <td>19.8</td>\n",
       "      <td>11.88</td>\n",
       "      <td>47</td>\n",
       "      <td>0</td>\n",
       "    </tr>\n",
       "    <tr>\n",
       "      <th>3</th>\n",
       "      <td>EPX</td>\n",
       "      <td>Travel Agency</td>\n",
       "      <td>Online</td>\n",
       "      <td>2 way Comprehensive Plan</td>\n",
       "      <td>15</td>\n",
       "      <td>HONG KONG</td>\n",
       "      <td>27.0</td>\n",
       "      <td>0.00</td>\n",
       "      <td>48</td>\n",
       "      <td>0</td>\n",
       "    </tr>\n",
       "    <tr>\n",
       "      <th>4</th>\n",
       "      <td>EPX</td>\n",
       "      <td>Travel Agency</td>\n",
       "      <td>Online</td>\n",
       "      <td>2 way Comprehensive Plan</td>\n",
       "      <td>15</td>\n",
       "      <td>MALAYSIA</td>\n",
       "      <td>37.0</td>\n",
       "      <td>0.00</td>\n",
       "      <td>36</td>\n",
       "      <td>0</td>\n",
       "    </tr>\n",
       "  </tbody>\n",
       "</table>\n",
       "</div>"
      ],
      "text/plain": [
       "  Agency    Agency Type Distribution Channel                     Product Name  \\\n",
       "0    EPX  Travel Agency               Online                Cancellation Plan   \n",
       "1    EPX  Travel Agency               Online                Cancellation Plan   \n",
       "2    CWT  Travel Agency               Online  Rental Vehicle Excess Insurance   \n",
       "3    EPX  Travel Agency               Online         2 way Comprehensive Plan   \n",
       "4    EPX  Travel Agency               Online         2 way Comprehensive Plan   \n",
       "\n",
       "   Duration  Destination  Net Sales  Commision (in value)  Age  Claim  \n",
       "0        61  PHILIPPINES       12.0                  0.00   41      0  \n",
       "1         4     MALAYSIA       17.0                  0.00   35      0  \n",
       "2        26     THAILAND       19.8                 11.88   47      0  \n",
       "3        15    HONG KONG       27.0                  0.00   48      0  \n",
       "4        15     MALAYSIA       37.0                  0.00   36      0  "
      ]
     },
     "execution_count": 8,
     "metadata": {},
     "output_type": "execute_result"
    }
   ],
   "source": [
    "data.head()"
   ]
  },
  {
   "cell_type": "code",
   "execution_count": 9,
   "metadata": {},
   "outputs": [],
   "source": [
    "data.rename(columns={'Agency Type':'Agency_Type', 'Distribution Channel':'Distribution_Channel', 'Product Name':'Product_Name','Net Sales':'Net_Sales', 'Commision (in value)':'Commision'},inplace=True)"
   ]
  },
  {
   "cell_type": "code",
   "execution_count": 10,
   "metadata": {},
   "outputs": [],
   "source": [
    "test.rename(columns={'Agency Type':'Agency_Type', 'Distribution Channel':'Distribution_Channel', 'Product Name':'Product_Name','Net Sales':'Net_Sales', 'Commision (in value)':'Commision'},inplace=True)"
   ]
  },
  {
   "cell_type": "code",
   "execution_count": 11,
   "metadata": {},
   "outputs": [
    {
     "name": "stdout",
     "output_type": "stream",
     "text": [
      "Agency has ['EPX' 'CWT' 'JZI' 'C2B' 'RAB' 'TST' 'CSR' 'JWT' 'LWC' 'SSI' 'ART' 'CCR'\n",
      " 'KML' 'ADM' 'CBH' 'TTW'] unique values which are 16 in total\n",
      "\n",
      "\n",
      "Agency_Type has ['Travel Agency' 'Airlines'] unique values which are 2 in total\n",
      "\n",
      "\n",
      "Distribution_Channel has ['Online' 'Offline'] unique values which are 2 in total\n",
      "\n",
      "\n",
      "Product_Name has ['Cancellation Plan' 'Rental Vehicle Excess Insurance'\n",
      " '2 way Comprehensive Plan' 'Basic Plan' 'Bronze Plan' 'Silver Plan'\n",
      " '1 way Comprehensive Plan' 'Value Plan' 'Annual Silver Plan'\n",
      " 'Travel Cruise Protect' 'Comprehensive Plan' 'Annual Gold Plan'\n",
      " 'Single Trip Travel Protect Gold' 'Single Trip Travel Protect Silver'\n",
      " 'Ticket Protector' '24 Protect' 'Gold Plan' 'Annual Travel Protect Gold'\n",
      " 'Annual Travel Protect Platinum' 'Single Trip Travel Protect Platinum'\n",
      " 'Annual Travel Protect Silver' 'Premier Plan'\n",
      " 'Individual Comprehensive Plan' 'Spouse or Parents Comprehensive Plan'\n",
      " 'Child Comprehensive Plan'] unique values which are 25 in total\n",
      "\n",
      "\n",
      "Duration has [  61    4   26   15  215   31   13   10   83   22   48   24   17   58\n",
      "   43   98   12   36    8   53    6   47  116   45  122  151  374   20\n",
      "   73   32   16    9   55   49    5    7   72  391   90   25    2   11\n",
      "  148   77   23   67  365    1   44    3   18  396   54   57   19   14\n",
      "   27  369   62   63   65   81   96   68   29  376   46   34   41   42\n",
      "   93  364   39   50   33   89   84   66   56   52  367   60   37   40\n",
      "  392  371   70   74   38   91  206  178  425   35  384  380  382  145\n",
      "  417  245   71  114  186   51   30   95  139  366   64   79  243  379\n",
      "   92  104  102  101   87  117  147  125  377  108  106  195  181  373\n",
      " 4736  113  390   85   78  368   75   59   28  230   88  167  109  110\n",
      "   80  105  372  184  146   21   69  173  136   97  238  174  180  383\n",
      "  213  107  103  140   86  416  127  263   94  134  137  149  126  160\n",
      "  429  153  378  228   76  381  144   82  131  118  162  265  161  135\n",
      "  138  193  247  141  163  123  119  375    0  115  393  190  248  210\n",
      "  168  370  387  112  175  143  177  474  261  100  269  236  187  318\n",
      "   99  323  410  171  389  388  194  267  218  291  246  204  225  202\n",
      "  226  257  221  298  183  142  466  268  192  216  129  130  150  740\n",
      "  152  280  274  128  227  133  397  198  164  385  132  266  315  111\n",
      "  200  214  235  401  254  189  547  156  237  252  166  124  273  201\n",
      "  281  399  337  240  290  249  444  289  158  209  212  154  231  159\n",
      "  264  395  241  279  303  172  422  465  191  336  196  296  120  188\n",
      "  176  275  408  386  327  229  529  179  299  277  287  219  205  233\n",
      "  222  211  169  324  430  398  217  232  400  242  182  490 4831  440\n",
      "  121  286  259  282  255  457  208  199  283  256  251  155  409  185\n",
      "  203  402  253  165  207  328  157  421  403  305  223  326  234  314\n",
      "   -1  288  197  405  262  278  325  413  404  456  394  170  270  420\n",
      "  322  239  276 4847  224  220  250  285  332  352  330  411  310  450\n",
      "  427  406  244  272  407  300  292  319  306  412  431  260  508  271\n",
      "  312 4844  434  297  436  309  284  419  426  414  488  258  350  321\n",
      "  487  293  342  331  307 4815  531 4580  445  304  294  415  418  433\n",
      "  448  428  494  423  463   -2 4609  472  441  424  311  545 4881  432\n",
      "  301  459 4784  497  435] unique values which are 439 in total\n",
      "\n",
      "\n",
      "Destination has ['PHILIPPINES' 'MALAYSIA' 'THAILAND' 'HONG KONG' 'UNITED KINGDOM'\n",
      " 'VIET NAM' 'CHINA' 'SINGAPORE' 'JAPAN' 'INDONESIA' 'UNITED ARAB EMIRATES'\n",
      " 'BRUNEI DARUSSALAM' 'UNITED STATES' 'CANADA' 'INDIA' 'KOREA, REPUBLIC OF'\n",
      " 'CAMBODIA' 'AUSTRALIA' 'MONGOLIA' 'SOUTH AFRICA' 'EGYPT' 'CZECH REPUBLIC'\n",
      " 'GERMANY' 'NEPAL' 'PAKISTAN' 'FRANCE' 'MYANMAR'\n",
      " 'TAIWAN, PROVINCE OF CHINA' 'SPAIN' 'NEW ZEALAND' 'ISRAEL' 'NETHERLANDS'\n",
      " 'NORWAY' 'SRI LANKA' 'FINLAND' 'IRELAND' 'ITALY' 'ICELAND' 'DENMARK'\n",
      " 'SAUDI ARABIA' 'SWITZERLAND' 'MACAO' 'UKRAINE' 'PORTUGAL' 'BELGIUM'\n",
      " 'HUNGARY' 'GREECE' 'MALDIVES' \"LAO PEOPLE'S DEMOCRATIC REPUBLIC\"\n",
      " 'MOROCCO' 'KAZAKHSTAN' 'TURKEY' 'MAURITIUS' 'BANGLADESH' 'PERU' 'SWEDEN'\n",
      " 'KENYA' 'FIJI' 'CYPRUS' 'BRAZIL' 'RUSSIAN FEDERATION' 'MEXICO' 'AUSTRIA'\n",
      " 'TANZANIA, UNITED REPUBLIC OF' 'LEBANON' 'POLAND' 'ROMANIA' 'SLOVENIA'\n",
      " 'BELARUS' 'MALTA' 'OMAN' 'UZBEKISTAN' 'COLOMBIA' 'QATAR' 'CROATIA'\n",
      " 'GEORGIA' 'ARGENTINA' 'ESTONIA' 'VENEZUELA' 'LITHUANIA' 'COSTA RICA'\n",
      " 'LUXEMBOURG' 'BOLIVIA' 'CHILE' 'JORDAN' 'VANUATU' 'TUNISIA' 'BAHRAIN'\n",
      " 'AZERBAIJAN' 'KYRGYZSTAN' 'KUWAIT' 'BERMUDA' 'GUAM' 'BHUTAN' 'ZAMBIA'\n",
      " 'TURKMENISTAN' 'ETHIOPIA'] unique values which are 97 in total\n",
      "\n",
      "\n",
      "Net_Sales has [ 12.          17.          19.8        ...  20.62105108  53.4845652\n",
      " 444.75059344] unique values which are 6700 in total\n",
      "\n",
      "\n",
      "Commision has [  0.          11.88         7.7        ...   5.15905052  13.3761413\n",
      " 111.18580045] unique values which are 5101 in total\n",
      "\n",
      "\n",
      "Age has [ 41  35  47  48  36  38  43  28  31  66  25  52  40  50  51  33  30  32\n",
      "  37  71  61 118  24  59  46  22  74  49  34  29  54  44  75  26  27  45\n",
      "  39  63  62  23  21  57  42  64  68  58  55  60  67  18  53  56  19  17\n",
      "  69  65  20  72  89  82  84  81  76  70  73  77  79  87  16  14  83  88\n",
      "  97   8   1  92  78  80   3  10  11  15   7   9  12  85   5 108   0  96\n",
      " 115   4   2  86  13 117 101  94 105] unique values which are 99 in total\n",
      "\n",
      "\n",
      "Claim has [0 1] unique values which are 2 in total\n",
      "\n",
      "\n"
     ]
    }
   ],
   "source": [
    "for col in data.columns:\n",
    "    print(col ,\"has\", data[col].unique() ,\"unique values which are\",data[col].nunique() ,\"in total\" '\\n\\n')"
   ]
  },
  {
   "cell_type": "code",
   "execution_count": 12,
   "metadata": {},
   "outputs": [
    {
     "data": {
      "text/plain": [
       "Agency\n",
       "C2B    1.000629e+06\n",
       "EPX    8.779453e+05\n",
       "CWT    3.141001e+05\n",
       "JZI    1.469204e+05\n",
       "LWC    1.006946e+05\n",
       "JWT    2.966676e+04\n",
       "KML    1.597342e+04\n",
       "TST    1.153273e+04\n",
       "TTW    9.924838e+03\n",
       "RAB    9.313000e+03\n",
       "ART    6.234160e+03\n",
       "SSI    5.134452e+03\n",
       "CCR    4.843965e+03\n",
       "ADM    3.020000e+03\n",
       "CBH    2.019000e+03\n",
       "CSR    1.943000e+03\n",
       "Name: Net_Sales, dtype: float64"
      ]
     },
     "execution_count": 12,
     "metadata": {},
     "output_type": "execute_result"
    }
   ],
   "source": [
    "data.groupby(\"Agency\")[\"Net_Sales\"].sum().sort_values(ascending=False)"
   ]
  },
  {
   "cell_type": "code",
   "execution_count": 13,
   "metadata": {},
   "outputs": [],
   "source": [
    "data[\"Agency\"].replace(['JWT','KML','TST','TTW','RAB','ART','SSI','CCR','ADM','CBH','CSR'],value=\"Others\",inplace=True)"
   ]
  },
  {
   "cell_type": "code",
   "execution_count": 14,
   "metadata": {},
   "outputs": [],
   "source": [
    "test[\"Agency\"].replace(['JWT','KML','TST','TTW','RAB','ART','SSI','CCR','ADM','CBH','CSR'],value=\"Others\",inplace=True)"
   ]
  },
  {
   "cell_type": "code",
   "execution_count": 15,
   "metadata": {},
   "outputs": [],
   "source": [
    "data[\"Destination_Continent\"] = data[\"Destination\"]"
   ]
  },
  {
   "cell_type": "code",
   "execution_count": 16,
   "metadata": {},
   "outputs": [],
   "source": [
    "test[\"Destination_Continent\"] = test[\"Destination\"]"
   ]
  },
  {
   "cell_type": "code",
   "execution_count": 17,
   "metadata": {},
   "outputs": [],
   "source": [
    "data[\"Destination_Continent\"]  = data[\"Destination_Continent\"].replace(to_replace =['PERU','BRAZIL','COLOMBIA','ARGENTINA','VENEZUELA','BOLIVIA','CHILE'], value =\"South America\")\n",
    "\n",
    "data[\"Destination_Continent\"] = data[\"Destination_Continent\"].replace(to_replace =['EGYPT','SPAIN','PORTUGAL','KAZAKHSTAN','TURKEY','RUSSIAN FEDERATION','GEORGIA','AZERBAIJAN'], value =\"Transcontinental\")  \n",
    "\n",
    "data[\"Destination_Continent\"] = data[\"Destination_Continent\"].replace(to_replace =['SOUTH AFRICA','MOROCCO','MAURITIUS','KENYA','TANZANIA, UNITED REPUBLIC OF','TUNISIA','ZAMBIA','ETHIOPIA'], value =\"Africa\")\n",
    "\n",
    "data[\"Destination_Continent\"] = data[\"Destination_Continent\"].replace(to_replace =['AUSTRALIA','NEW ZEALAND','FIJI','VANUATU','GUAM'], value='Oceania')\n",
    "\n",
    "data[\"Destination_Continent\"] = data[\"Destination_Continent\"].replace(to_replace =['UNITED STATES','CANADA','MEXICO','COSTA RICA','BERMUDA'],value = 'North America')\n",
    "\n",
    "data[\"Destination_Continent\"] = data[\"Destination_Continent\"].replace(to_replace =['UNITED KINGDOM','CZECH REPUBLIC','GERMANY','FRANCE','NETHERLANDS','NORWAY','FINLAND','IRELAND','ITALY','ICELAND','DENMARK','SWITZERLAND','UKRAINE','BELGIUM','HUNGARY','GREECE','SWEDEN','CYPRUS','AUSTRIA','POLAND','ROMANIA','SLOVENIA','BELARUS','MALTA','CROATIA','ESTONIA','LITHUANIA','LUXEMBOURG'], value=\"Europe\")\n",
    "\n",
    "data[\"Destination_Continent\"] = data[\"Destination_Continent\"].replace(to_replace =['PHILIPPINES','MALAYSIA','THAILAND','VIET NAM','CHINA','SINGAPORE','JAPAN','INDONESIA','UNITED ARAB EMIRATES','BRUNEI DARUSSALAM','HONG KONG','INDIA','KOREA, REPUBLIC OF','CAMBODIA','MONGOLIA','NEPAL','PAKISTAN','MYANMAR','TAIWAN, PROVINCE OF CHINA','ISRAEL','SRI LANKA','SAUDI ARABIA','MACAO','MALDIVES',\"LAO PEOPLE'S DEMOCRATIC REPUBLIC\",'BANGLADESH','LEBANON','OMAN','UZBEKISTAN','QATAR','JORDAN','BAHRAIN','KYRGYZSTAN','KUWAIT','BHUTAN','TURKMENISTAN'], value= \"Asia\")\n"
   ]
  },
  {
   "cell_type": "code",
   "execution_count": 18,
   "metadata": {},
   "outputs": [],
   "source": [
    "test[\"Destination_Continent\"]  = test[\"Destination_Continent\"].replace(to_replace =['PERU','BRAZIL','COLOMBIA','ARGENTINA','VENEZUELA','BOLIVIA','CHILE'], value =\"South America\")\n",
    "\n",
    "test[\"Destination_Continent\"] = test[\"Destination_Continent\"].replace(to_replace =['EGYPT','SPAIN','PORTUGAL','KAZAKHSTAN','TURKEY','RUSSIAN FEDERATION','GEORGIA','AZERBAIJAN'], value =\"Transcontinental\")  \n",
    "\n",
    "test[\"Destination_Continent\"] = test[\"Destination_Continent\"].replace(to_replace =['SOUTH AFRICA','MOROCCO','MAURITIUS','KENYA','TANZANIA, UNITED REPUBLIC OF','TUNISIA','ZAMBIA','ETHIOPIA'], value =\"Africa\")\n",
    "\n",
    "test[\"Destination_Continent\"] = test[\"Destination_Continent\"].replace(to_replace =['AUSTRALIA','NEW ZEALAND','FIJI','VANUATU','GUAM'], value='Oceania')\n",
    "\n",
    "test[\"Destination_Continent\"] = test[\"Destination_Continent\"].replace(to_replace =['UNITED STATES','CANADA','MEXICO','COSTA RICA','BERMUDA'],value = 'North America')\n",
    "\n",
    "test[\"Destination_Continent\"] = test[\"Destination_Continent\"].replace(to_replace =['UNITED KINGDOM','CZECH REPUBLIC','GERMANY','FRANCE','NETHERLANDS','NORWAY','FINLAND','IRELAND','ITALY','ICELAND','DENMARK','SWITZERLAND','UKRAINE','BELGIUM','HUNGARY','GREECE','SWEDEN','CYPRUS','AUSTRIA','POLAND','ROMANIA','SLOVENIA','BELARUS','MALTA','CROATIA','ESTONIA','LITHUANIA','LUXEMBOURG'], value=\"Europe\")\n",
    "\n",
    "test[\"Destination_Continent\"] = test[\"Destination_Continent\"].replace(to_replace =['PHILIPPINES','MALAYSIA','THAILAND','VIET NAM','CHINA','SINGAPORE','JAPAN','INDONESIA','UNITED ARAB EMIRATES','BRUNEI DARUSSALAM','HONG KONG','INDIA','KOREA, REPUBLIC OF','CAMBODIA','MONGOLIA','NEPAL','PAKISTAN','MYANMAR','TAIWAN, PROVINCE OF CHINA','ISRAEL','SRI LANKA','SAUDI ARABIA','MACAO','MALDIVES',\"LAO PEOPLE'S DEMOCRATIC REPUBLIC\",'BANGLADESH','LEBANON','OMAN','UZBEKISTAN','QATAR','JORDAN','BAHRAIN','KYRGYZSTAN','KUWAIT','BHUTAN','TURKMENISTAN'], value= \"Asia\")\n"
   ]
  },
  {
   "cell_type": "code",
   "execution_count": 19,
   "metadata": {},
   "outputs": [],
   "source": [
    "data.drop(columns=\"Destination\",inplace=True)\n",
    "test.drop(columns=\"Destination\",inplace=True)"
   ]
  },
  {
   "cell_type": "code",
   "execution_count": 20,
   "metadata": {},
   "outputs": [],
   "source": [
    "data['Age'] = data['Age'].apply(lambda x: x if x <= 100 else np.mean(data[\"Age\"]))\n",
    "test['Age'] = test['Age'].apply(lambda x: x if x <= 100 else np.mean(data[\"Age\"]))"
   ]
  },
  {
   "cell_type": "code",
   "execution_count": 21,
   "metadata": {},
   "outputs": [],
   "source": [
    "data[\"Duration\"] = data['Duration'].apply(lambda x: x if x > 0 else np.mean(data[\"Duration\"]))\n",
    "test[\"Duration\"] = test['Duration'].apply(lambda x: x if x > 0 else np.mean(data[\"Duration\"]))"
   ]
  },
  {
   "cell_type": "code",
   "execution_count": 22,
   "metadata": {},
   "outputs": [
    {
     "data": {
      "image/png": "[encoded data removed]",
      "text/plain": [
       "<Figure size 432x288 with 1 Axes>"
      ]
     },
     "metadata": {
      "needs_background": "light"
     },
     "output_type": "display_data"
    }
   ],
   "source": [
    "sns.countplot(x=\"Agency_Type\", hue=\"Claim\", data=data);"
   ]
  },
  {
   "cell_type": "code",
   "execution_count": 23,
   "metadata": {},
   "outputs": [
    {
     "data": {
      "image/png": "[encoded data removed]",
      "text/plain": [
       "<Figure size 432x288 with 1 Axes>"
      ]
     },
     "metadata": {
      "needs_background": "light"
     },
     "output_type": "display_data"
    }
   ],
   "source": [
    "sns.countplot(x=\"Distribution_Channel\", hue=\"Claim\", data=data);"
   ]
  },
  {
   "cell_type": "code",
   "execution_count": 24,
   "metadata": {},
   "outputs": [
    {
     "data": {
      "image/png": "[encoded data removed]",
      "text/plain": [
       "<Figure size 720x720 with 1 Axes>"
      ]
     },
     "metadata": {
      "needs_background": "light"
     },
     "output_type": "display_data"
    }
   ],
   "source": [
    "plt.figure(figsize=(10,10))\n",
    "sns.countplot(x=\"Product_Name\", hue=\"Claim\", data=data)\n",
    "plt.xticks(rotation=90)\n",
    "plt.show();"
   ]
  },
  {
   "cell_type": "code",
   "execution_count": 25,
   "metadata": {},
   "outputs": [],
   "source": [
    "numerical_columns = data.select_dtypes(include=np.number)"
   ]
  },
  {
   "cell_type": "code",
   "execution_count": 26,
   "metadata": {},
   "outputs": [
    {
     "data": {
      "image/png": "[encoded data removed]",
      "text/plain": [
       "<Figure size 720x720 with 4 Axes>"
      ]
     },
     "metadata": {
      "needs_background": "light"
     },
     "output_type": "display_data"
    }
   ],
   "source": [
    "fig,axes = plt.subplots(4,1,figsize=(10,10))\n",
    "fig.tight_layout()\n",
    "for i,col in enumerate(numerical_columns.columns[:4]):\n",
    "    sns.distplot(data[col],ax=axes[i])\n",
    "plt.show();"
   ]
  },
  {
   "cell_type": "code",
   "execution_count": 27,
   "metadata": {},
   "outputs": [
    {
     "data": {
      "image/png": "[encoded data removed]",
      "text/plain": [
       "<Figure size 1080x720 with 2 Axes>"
      ]
     },
     "metadata": {
      "needs_background": "light"
     },
     "output_type": "display_data"
    }
   ],
   "source": [
    "plt.figure(figsize=(15,10))\n",
    "ax = sns.heatmap(data.corr(),annot=True)\n",
    "bottom, top = ax.get_ylim()\n",
    "ax.set_ylim(bottom + 0.5, top - 0.5)\n",
    "plt.show();"
   ]
  },
  {
   "cell_type": "code",
   "execution_count": 28,
   "metadata": {},
   "outputs": [],
   "source": [
    "data[\"Agency_Type\"] = data[\"Agency_Type\"].apply(lambda x: 1 if x == \"Travel Agency\" else 0)\n",
    "test[\"Agency_Type\"] = test[\"Agency_Type\"].apply(lambda x: 1 if x == \"Travel Agency\" else 0)"
   ]
  },
  {
   "cell_type": "code",
   "execution_count": 29,
   "metadata": {},
   "outputs": [],
   "source": [
    "data[\"Distribution_Channel\"] = data[\"Distribution_Channel\"].apply(lambda x: 1 if x == \"Online\" else 0)\n",
    "test[\"Distribution_Channel\"] = test[\"Distribution_Channel\"].apply(lambda x: 1 if x == \"Online\" else 0)"
   ]
  },
  {
   "cell_type": "code",
   "execution_count": 30,
   "metadata": {},
   "outputs": [],
   "source": [
    "from sklearn.preprocessing import LabelEncoder"
   ]
  },
  {
   "cell_type": "code",
   "execution_count": 31,
   "metadata": {},
   "outputs": [],
   "source": [
    "le = LabelEncoder()"
   ]
  },
  {
   "cell_type": "code",
   "execution_count": 32,
   "metadata": {},
   "outputs": [],
   "source": [
    "col = [\"Agency\",\"Destination_Continent\"]\n",
    "for i in col:\n",
    "    data[i] = le.fit_transform(data[i])\n",
    "    test[i] = le.transform(test[i])"
   ]
  },
  {
   "cell_type": "code",
   "execution_count": 33,
   "metadata": {},
   "outputs": [
    {
     "data": {
      "text/html": [
       "<div>\n",
       "<style scoped>\n",
       "    .dataframe tbody tr th:only-of-type {\n",
       "        vertical-align: middle;\n",
       "    }\n",
       "\n",
       "    .dataframe tbody tr th {\n",
       "        vertical-align: top;\n",
       "    }\n",
       "\n",
       "    .dataframe thead th {\n",
       "        text-align: right;\n",
       "    }\n",
       "</style>\n",
       "<table border=\"1\" class=\"dataframe\">\n",
       "  <thead>\n",
       "    <tr style=\"text-align: right;\">\n",
       "      <th></th>\n",
       "      <th>Agency</th>\n",
       "      <th>Agency_Type</th>\n",
       "      <th>Distribution_Channel</th>\n",
       "      <th>Product_Name</th>\n",
       "      <th>Duration</th>\n",
       "      <th>Net_Sales</th>\n",
       "      <th>Commision</th>\n",
       "      <th>Age</th>\n",
       "      <th>Claim</th>\n",
       "      <th>Destination_Continent</th>\n",
       "    </tr>\n",
       "  </thead>\n",
       "  <tbody>\n",
       "    <tr>\n",
       "      <th>0</th>\n",
       "      <td>2</td>\n",
       "      <td>1</td>\n",
       "      <td>1</td>\n",
       "      <td>Cancellation Plan</td>\n",
       "      <td>61.0</td>\n",
       "      <td>12.0</td>\n",
       "      <td>0.00</td>\n",
       "      <td>41.0</td>\n",
       "      <td>0</td>\n",
       "      <td>1</td>\n",
       "    </tr>\n",
       "    <tr>\n",
       "      <th>1</th>\n",
       "      <td>2</td>\n",
       "      <td>1</td>\n",
       "      <td>1</td>\n",
       "      <td>Cancellation Plan</td>\n",
       "      <td>4.0</td>\n",
       "      <td>17.0</td>\n",
       "      <td>0.00</td>\n",
       "      <td>35.0</td>\n",
       "      <td>0</td>\n",
       "      <td>1</td>\n",
       "    </tr>\n",
       "    <tr>\n",
       "      <th>2</th>\n",
       "      <td>1</td>\n",
       "      <td>1</td>\n",
       "      <td>1</td>\n",
       "      <td>Rental Vehicle Excess Insurance</td>\n",
       "      <td>26.0</td>\n",
       "      <td>19.8</td>\n",
       "      <td>11.88</td>\n",
       "      <td>47.0</td>\n",
       "      <td>0</td>\n",
       "      <td>1</td>\n",
       "    </tr>\n",
       "    <tr>\n",
       "      <th>3</th>\n",
       "      <td>2</td>\n",
       "      <td>1</td>\n",
       "      <td>1</td>\n",
       "      <td>2 way Comprehensive Plan</td>\n",
       "      <td>15.0</td>\n",
       "      <td>27.0</td>\n",
       "      <td>0.00</td>\n",
       "      <td>48.0</td>\n",
       "      <td>0</td>\n",
       "      <td>1</td>\n",
       "    </tr>\n",
       "    <tr>\n",
       "      <th>4</th>\n",
       "      <td>2</td>\n",
       "      <td>1</td>\n",
       "      <td>1</td>\n",
       "      <td>2 way Comprehensive Plan</td>\n",
       "      <td>15.0</td>\n",
       "      <td>37.0</td>\n",
       "      <td>0.00</td>\n",
       "      <td>36.0</td>\n",
       "      <td>0</td>\n",
       "      <td>1</td>\n",
       "    </tr>\n",
       "  </tbody>\n",
       "</table>\n",
       "</div>"
      ],
      "text/plain": [
       "   Agency  Agency_Type  Distribution_Channel                     Product_Name  \\\n",
       "0       2            1                     1                Cancellation Plan   \n",
       "1       2            1                     1                Cancellation Plan   \n",
       "2       1            1                     1  Rental Vehicle Excess Insurance   \n",
       "3       2            1                     1         2 way Comprehensive Plan   \n",
       "4       2            1                     1         2 way Comprehensive Plan   \n",
       "\n",
       "   Duration  Net_Sales  Commision   Age  Claim  Destination_Continent  \n",
       "0      61.0       12.0       0.00  41.0      0                      1  \n",
       "1       4.0       17.0       0.00  35.0      0                      1  \n",
       "2      26.0       19.8      11.88  47.0      0                      1  \n",
       "3      15.0       27.0       0.00  48.0      0                      1  \n",
       "4      15.0       37.0       0.00  36.0      0                      1  "
      ]
     },
     "execution_count": 33,
     "metadata": {},
     "output_type": "execute_result"
    }
   ],
   "source": [
    "data.head()"
   ]
  },
  {
   "cell_type": "code",
   "execution_count": 34,
   "metadata": {},
   "outputs": [
    {
     "data": {
      "text/plain": [
       "(52310, 10)"
      ]
     },
     "execution_count": 34,
     "metadata": {},
     "output_type": "execute_result"
    }
   ],
   "source": [
    "data.shape"
   ]
  },
  {
   "cell_type": "code",
   "execution_count": 35,
   "metadata": {},
   "outputs": [],
   "source": [
    "df = data.join(pd.get_dummies(data['Product_Name']))"
   ]
  },
  {
   "cell_type": "code",
   "execution_count": 36,
   "metadata": {},
   "outputs": [],
   "source": [
    "test_df = test.join(pd.get_dummies(test['Product_Name']))"
   ]
  },
  {
   "cell_type": "code",
   "execution_count": 37,
   "metadata": {},
   "outputs": [],
   "source": [
    "df.drop(columns=\"Product_Name\",inplace=True)\n",
    "test_df.drop(columns=\"Product_Name\",inplace=True)"
   ]
  },
  {
   "cell_type": "code",
   "execution_count": 38,
   "metadata": {},
   "outputs": [
    {
     "data": {
      "text/html": [
       "<div>\n",
       "<style scoped>\n",
       "    .dataframe tbody tr th:only-of-type {\n",
       "        vertical-align: middle;\n",
       "    }\n",
       "\n",
       "    .dataframe tbody tr th {\n",
       "        vertical-align: top;\n",
       "    }\n",
       "\n",
       "    .dataframe thead th {\n",
       "        text-align: right;\n",
       "    }\n",
       "</style>\n",
       "<table border=\"1\" class=\"dataframe\">\n",
       "  <thead>\n",
       "    <tr style=\"text-align: right;\">\n",
       "      <th></th>\n",
       "      <th>Agency</th>\n",
       "      <th>Agency_Type</th>\n",
       "      <th>Distribution_Channel</th>\n",
       "      <th>Duration</th>\n",
       "      <th>Net_Sales</th>\n",
       "      <th>Commision</th>\n",
       "      <th>Age</th>\n",
       "      <th>Claim</th>\n",
       "      <th>Destination_Continent</th>\n",
       "      <th>1 way Comprehensive Plan</th>\n",
       "      <th>...</th>\n",
       "      <th>Premier Plan</th>\n",
       "      <th>Rental Vehicle Excess Insurance</th>\n",
       "      <th>Silver Plan</th>\n",
       "      <th>Single Trip Travel Protect Gold</th>\n",
       "      <th>Single Trip Travel Protect Platinum</th>\n",
       "      <th>Single Trip Travel Protect Silver</th>\n",
       "      <th>Spouse or Parents Comprehensive Plan</th>\n",
       "      <th>Ticket Protector</th>\n",
       "      <th>Travel Cruise Protect</th>\n",
       "      <th>Value Plan</th>\n",
       "    </tr>\n",
       "  </thead>\n",
       "  <tbody>\n",
       "    <tr>\n",
       "      <th>0</th>\n",
       "      <td>2</td>\n",
       "      <td>1</td>\n",
       "      <td>1</td>\n",
       "      <td>61.0</td>\n",
       "      <td>12.0</td>\n",
       "      <td>0.00</td>\n",
       "      <td>41.0</td>\n",
       "      <td>0</td>\n",
       "      <td>1</td>\n",
       "      <td>0</td>\n",
       "      <td>...</td>\n",
       "      <td>0</td>\n",
       "      <td>0</td>\n",
       "      <td>0</td>\n",
       "      <td>0</td>\n",
       "      <td>0</td>\n",
       "      <td>0</td>\n",
       "      <td>0</td>\n",
       "      <td>0</td>\n",
       "      <td>0</td>\n",
       "      <td>0</td>\n",
       "    </tr>\n",
       "    <tr>\n",
       "      <th>1</th>\n",
       "      <td>2</td>\n",
       "      <td>1</td>\n",
       "      <td>1</td>\n",
       "      <td>4.0</td>\n",
       "      <td>17.0</td>\n",
       "      <td>0.00</td>\n",
       "      <td>35.0</td>\n",
       "      <td>0</td>\n",
       "      <td>1</td>\n",
       "      <td>0</td>\n",
       "      <td>...</td>\n",
       "      <td>0</td>\n",
       "      <td>0</td>\n",
       "      <td>0</td>\n",
       "      <td>0</td>\n",
       "      <td>0</td>\n",
       "      <td>0</td>\n",
       "      <td>0</td>\n",
       "      <td>0</td>\n",
       "      <td>0</td>\n",
       "      <td>0</td>\n",
       "    </tr>\n",
       "    <tr>\n",
       "      <th>2</th>\n",
       "      <td>1</td>\n",
       "      <td>1</td>\n",
       "      <td>1</td>\n",
       "      <td>26.0</td>\n",
       "      <td>19.8</td>\n",
       "      <td>11.88</td>\n",
       "      <td>47.0</td>\n",
       "      <td>0</td>\n",
       "      <td>1</td>\n",
       "      <td>0</td>\n",
       "      <td>...</td>\n",
       "      <td>0</td>\n",
       "      <td>1</td>\n",
       "      <td>0</td>\n",
       "      <td>0</td>\n",
       "      <td>0</td>\n",
       "      <td>0</td>\n",
       "      <td>0</td>\n",
       "      <td>0</td>\n",
       "      <td>0</td>\n",
       "      <td>0</td>\n",
       "    </tr>\n",
       "    <tr>\n",
       "      <th>3</th>\n",
       "      <td>2</td>\n",
       "      <td>1</td>\n",
       "      <td>1</td>\n",
       "      <td>15.0</td>\n",
       "      <td>27.0</td>\n",
       "      <td>0.00</td>\n",
       "      <td>48.0</td>\n",
       "      <td>0</td>\n",
       "      <td>1</td>\n",
       "      <td>0</td>\n",
       "      <td>...</td>\n",
       "      <td>0</td>\n",
       "      <td>0</td>\n",
       "      <td>0</td>\n",
       "      <td>0</td>\n",
       "      <td>0</td>\n",
       "      <td>0</td>\n",
       "      <td>0</td>\n",
       "      <td>0</td>\n",
       "      <td>0</td>\n",
       "      <td>0</td>\n",
       "    </tr>\n",
       "    <tr>\n",
       "      <th>4</th>\n",
       "      <td>2</td>\n",
       "      <td>1</td>\n",
       "      <td>1</td>\n",
       "      <td>15.0</td>\n",
       "      <td>37.0</td>\n",
       "      <td>0.00</td>\n",
       "      <td>36.0</td>\n",
       "      <td>0</td>\n",
       "      <td>1</td>\n",
       "      <td>0</td>\n",
       "      <td>...</td>\n",
       "      <td>0</td>\n",
       "      <td>0</td>\n",
       "      <td>0</td>\n",
       "      <td>0</td>\n",
       "      <td>0</td>\n",
       "      <td>0</td>\n",
       "      <td>0</td>\n",
       "      <td>0</td>\n",
       "      <td>0</td>\n",
       "      <td>0</td>\n",
       "    </tr>\n",
       "  </tbody>\n",
       "</table>\n",
       "<p>5 rows × 34 columns</p>\n",
       "</div>"
      ],
      "text/plain": [
       "   Agency  Agency_Type  Distribution_Channel  Duration  Net_Sales  Commision  \\\n",
       "0       2            1                     1      61.0       12.0       0.00   \n",
       "1       2            1                     1       4.0       17.0       0.00   \n",
       "2       1            1                     1      26.0       19.8      11.88   \n",
       "3       2            1                     1      15.0       27.0       0.00   \n",
       "4       2            1                     1      15.0       37.0       0.00   \n",
       "\n",
       "    Age  Claim  Destination_Continent  1 way Comprehensive Plan  ...  \\\n",
       "0  41.0      0                      1                         0  ...   \n",
       "1  35.0      0                      1                         0  ...   \n",
       "2  47.0      0                      1                         0  ...   \n",
       "3  48.0      0                      1                         0  ...   \n",
       "4  36.0      0                      1                         0  ...   \n",
       "\n",
       "   Premier Plan  Rental Vehicle Excess Insurance  Silver Plan  \\\n",
       "0             0                                0            0   \n",
       "1             0                                0            0   \n",
       "2             0                                1            0   \n",
       "3             0                                0            0   \n",
       "4             0                                0            0   \n",
       "\n",
       "   Single Trip Travel Protect Gold  Single Trip Travel Protect Platinum  \\\n",
       "0                                0                                    0   \n",
       "1                                0                                    0   \n",
       "2                                0                                    0   \n",
       "3                                0                                    0   \n",
       "4                                0                                    0   \n",
       "\n",
       "   Single Trip Travel Protect Silver  Spouse or Parents Comprehensive Plan  \\\n",
       "0                                  0                                     0   \n",
       "1                                  0                                     0   \n",
       "2                                  0                                     0   \n",
       "3                                  0                                     0   \n",
       "4                                  0                                     0   \n",
       "\n",
       "   Ticket Protector  Travel Cruise Protect  Value Plan  \n",
       "0                 0                      0           0  \n",
       "1                 0                      0           0  \n",
       "2                 0                      0           0  \n",
       "3                 0                      0           0  \n",
       "4                 0                      0           0  \n",
       "\n",
       "[5 rows x 34 columns]"
      ]
     },
     "execution_count": 38,
     "metadata": {},
     "output_type": "execute_result"
    }
   ],
   "source": [
    "df.head()"
   ]
  },
  {
   "cell_type": "code",
   "execution_count": 39,
   "metadata": {},
   "outputs": [
    {
     "data": {
      "text/html": [
       "<div>\n",
       "<style scoped>\n",
       "    .dataframe tbody tr th:only-of-type {\n",
       "        vertical-align: middle;\n",
       "    }\n",
       "\n",
       "    .dataframe tbody tr th {\n",
       "        vertical-align: top;\n",
       "    }\n",
       "\n",
       "    .dataframe thead th {\n",
       "        text-align: right;\n",
       "    }\n",
       "</style>\n",
       "<table border=\"1\" class=\"dataframe\">\n",
       "  <thead>\n",
       "    <tr style=\"text-align: right;\">\n",
       "      <th></th>\n",
       "      <th>Agency</th>\n",
       "      <th>Agency_Type</th>\n",
       "      <th>Distribution_Channel</th>\n",
       "      <th>Duration</th>\n",
       "      <th>Net_Sales</th>\n",
       "      <th>Commision</th>\n",
       "      <th>Age</th>\n",
       "      <th>Destination_Continent</th>\n",
       "      <th>1 way Comprehensive Plan</th>\n",
       "      <th>2 way Comprehensive Plan</th>\n",
       "      <th>...</th>\n",
       "      <th>Premier Plan</th>\n",
       "      <th>Rental Vehicle Excess Insurance</th>\n",
       "      <th>Silver Plan</th>\n",
       "      <th>Single Trip Travel Protect Gold</th>\n",
       "      <th>Single Trip Travel Protect Platinum</th>\n",
       "      <th>Single Trip Travel Protect Silver</th>\n",
       "      <th>Spouse or Parents Comprehensive Plan</th>\n",
       "      <th>Ticket Protector</th>\n",
       "      <th>Travel Cruise Protect</th>\n",
       "      <th>Value Plan</th>\n",
       "    </tr>\n",
       "  </thead>\n",
       "  <tbody>\n",
       "    <tr>\n",
       "      <th>0</th>\n",
       "      <td>2</td>\n",
       "      <td>1</td>\n",
       "      <td>1</td>\n",
       "      <td>192.0</td>\n",
       "      <td>18.0</td>\n",
       "      <td>0.00</td>\n",
       "      <td>36.0</td>\n",
       "      <td>1</td>\n",
       "      <td>0</td>\n",
       "      <td>0</td>\n",
       "      <td>...</td>\n",
       "      <td>0</td>\n",
       "      <td>0</td>\n",
       "      <td>0</td>\n",
       "      <td>0</td>\n",
       "      <td>0</td>\n",
       "      <td>0</td>\n",
       "      <td>0</td>\n",
       "      <td>0</td>\n",
       "      <td>0</td>\n",
       "      <td>0</td>\n",
       "    </tr>\n",
       "    <tr>\n",
       "      <th>1</th>\n",
       "      <td>2</td>\n",
       "      <td>1</td>\n",
       "      <td>1</td>\n",
       "      <td>2.0</td>\n",
       "      <td>20.0</td>\n",
       "      <td>0.00</td>\n",
       "      <td>36.0</td>\n",
       "      <td>1</td>\n",
       "      <td>1</td>\n",
       "      <td>0</td>\n",
       "      <td>...</td>\n",
       "      <td>0</td>\n",
       "      <td>0</td>\n",
       "      <td>0</td>\n",
       "      <td>0</td>\n",
       "      <td>0</td>\n",
       "      <td>0</td>\n",
       "      <td>0</td>\n",
       "      <td>0</td>\n",
       "      <td>0</td>\n",
       "      <td>0</td>\n",
       "    </tr>\n",
       "    <tr>\n",
       "      <th>2</th>\n",
       "      <td>0</td>\n",
       "      <td>0</td>\n",
       "      <td>1</td>\n",
       "      <td>13.0</td>\n",
       "      <td>13.5</td>\n",
       "      <td>3.38</td>\n",
       "      <td>24.0</td>\n",
       "      <td>1</td>\n",
       "      <td>0</td>\n",
       "      <td>0</td>\n",
       "      <td>...</td>\n",
       "      <td>0</td>\n",
       "      <td>0</td>\n",
       "      <td>0</td>\n",
       "      <td>0</td>\n",
       "      <td>0</td>\n",
       "      <td>0</td>\n",
       "      <td>0</td>\n",
       "      <td>0</td>\n",
       "      <td>0</td>\n",
       "      <td>0</td>\n",
       "    </tr>\n",
       "    <tr>\n",
       "      <th>3</th>\n",
       "      <td>2</td>\n",
       "      <td>1</td>\n",
       "      <td>1</td>\n",
       "      <td>133.0</td>\n",
       "      <td>41.0</td>\n",
       "      <td>0.00</td>\n",
       "      <td>36.0</td>\n",
       "      <td>1</td>\n",
       "      <td>0</td>\n",
       "      <td>1</td>\n",
       "      <td>...</td>\n",
       "      <td>0</td>\n",
       "      <td>0</td>\n",
       "      <td>0</td>\n",
       "      <td>0</td>\n",
       "      <td>0</td>\n",
       "      <td>0</td>\n",
       "      <td>0</td>\n",
       "      <td>0</td>\n",
       "      <td>0</td>\n",
       "      <td>0</td>\n",
       "    </tr>\n",
       "    <tr>\n",
       "      <th>4</th>\n",
       "      <td>0</td>\n",
       "      <td>0</td>\n",
       "      <td>1</td>\n",
       "      <td>2.0</td>\n",
       "      <td>30.0</td>\n",
       "      <td>7.50</td>\n",
       "      <td>32.0</td>\n",
       "      <td>1</td>\n",
       "      <td>0</td>\n",
       "      <td>0</td>\n",
       "      <td>...</td>\n",
       "      <td>0</td>\n",
       "      <td>0</td>\n",
       "      <td>1</td>\n",
       "      <td>0</td>\n",
       "      <td>0</td>\n",
       "      <td>0</td>\n",
       "      <td>0</td>\n",
       "      <td>0</td>\n",
       "      <td>0</td>\n",
       "      <td>0</td>\n",
       "    </tr>\n",
       "    <tr>\n",
       "      <th>...</th>\n",
       "      <td>...</td>\n",
       "      <td>...</td>\n",
       "      <td>...</td>\n",
       "      <td>...</td>\n",
       "      <td>...</td>\n",
       "      <td>...</td>\n",
       "      <td>...</td>\n",
       "      <td>...</td>\n",
       "      <td>...</td>\n",
       "      <td>...</td>\n",
       "      <td>...</td>\n",
       "      <td>...</td>\n",
       "      <td>...</td>\n",
       "      <td>...</td>\n",
       "      <td>...</td>\n",
       "      <td>...</td>\n",
       "      <td>...</td>\n",
       "      <td>...</td>\n",
       "      <td>...</td>\n",
       "      <td>...</td>\n",
       "      <td>...</td>\n",
       "    </tr>\n",
       "    <tr>\n",
       "      <th>15688</th>\n",
       "      <td>2</td>\n",
       "      <td>1</td>\n",
       "      <td>1</td>\n",
       "      <td>32.0</td>\n",
       "      <td>16.0</td>\n",
       "      <td>0.00</td>\n",
       "      <td>36.0</td>\n",
       "      <td>1</td>\n",
       "      <td>0</td>\n",
       "      <td>0</td>\n",
       "      <td>...</td>\n",
       "      <td>0</td>\n",
       "      <td>0</td>\n",
       "      <td>0</td>\n",
       "      <td>0</td>\n",
       "      <td>0</td>\n",
       "      <td>0</td>\n",
       "      <td>0</td>\n",
       "      <td>0</td>\n",
       "      <td>0</td>\n",
       "      <td>0</td>\n",
       "    </tr>\n",
       "    <tr>\n",
       "      <th>15689</th>\n",
       "      <td>0</td>\n",
       "      <td>0</td>\n",
       "      <td>1</td>\n",
       "      <td>10.0</td>\n",
       "      <td>27.0</td>\n",
       "      <td>6.75</td>\n",
       "      <td>25.0</td>\n",
       "      <td>1</td>\n",
       "      <td>0</td>\n",
       "      <td>0</td>\n",
       "      <td>...</td>\n",
       "      <td>0</td>\n",
       "      <td>0</td>\n",
       "      <td>0</td>\n",
       "      <td>0</td>\n",
       "      <td>0</td>\n",
       "      <td>0</td>\n",
       "      <td>0</td>\n",
       "      <td>0</td>\n",
       "      <td>0</td>\n",
       "      <td>0</td>\n",
       "    </tr>\n",
       "    <tr>\n",
       "      <th>15690</th>\n",
       "      <td>0</td>\n",
       "      <td>0</td>\n",
       "      <td>1</td>\n",
       "      <td>365.0</td>\n",
       "      <td>216.0</td>\n",
       "      <td>54.00</td>\n",
       "      <td>49.0</td>\n",
       "      <td>1</td>\n",
       "      <td>0</td>\n",
       "      <td>0</td>\n",
       "      <td>...</td>\n",
       "      <td>0</td>\n",
       "      <td>0</td>\n",
       "      <td>0</td>\n",
       "      <td>0</td>\n",
       "      <td>0</td>\n",
       "      <td>0</td>\n",
       "      <td>0</td>\n",
       "      <td>0</td>\n",
       "      <td>0</td>\n",
       "      <td>0</td>\n",
       "    </tr>\n",
       "    <tr>\n",
       "      <th>15691</th>\n",
       "      <td>2</td>\n",
       "      <td>1</td>\n",
       "      <td>1</td>\n",
       "      <td>71.0</td>\n",
       "      <td>20.0</td>\n",
       "      <td>0.00</td>\n",
       "      <td>45.0</td>\n",
       "      <td>1</td>\n",
       "      <td>0</td>\n",
       "      <td>1</td>\n",
       "      <td>...</td>\n",
       "      <td>0</td>\n",
       "      <td>0</td>\n",
       "      <td>0</td>\n",
       "      <td>0</td>\n",
       "      <td>0</td>\n",
       "      <td>0</td>\n",
       "      <td>0</td>\n",
       "      <td>0</td>\n",
       "      <td>0</td>\n",
       "      <td>0</td>\n",
       "    </tr>\n",
       "    <tr>\n",
       "      <th>15692</th>\n",
       "      <td>2</td>\n",
       "      <td>1</td>\n",
       "      <td>1</td>\n",
       "      <td>2.0</td>\n",
       "      <td>28.0</td>\n",
       "      <td>0.00</td>\n",
       "      <td>36.0</td>\n",
       "      <td>1</td>\n",
       "      <td>0</td>\n",
       "      <td>0</td>\n",
       "      <td>...</td>\n",
       "      <td>0</td>\n",
       "      <td>0</td>\n",
       "      <td>0</td>\n",
       "      <td>0</td>\n",
       "      <td>0</td>\n",
       "      <td>0</td>\n",
       "      <td>0</td>\n",
       "      <td>0</td>\n",
       "      <td>0</td>\n",
       "      <td>0</td>\n",
       "    </tr>\n",
       "  </tbody>\n",
       "</table>\n",
       "<p>15693 rows × 33 columns</p>\n",
       "</div>"
      ],
      "text/plain": [
       "       Agency  Agency_Type  Distribution_Channel  Duration  Net_Sales  \\\n",
       "0           2            1                     1     192.0       18.0   \n",
       "1           2            1                     1       2.0       20.0   \n",
       "2           0            0                     1      13.0       13.5   \n",
       "3           2            1                     1     133.0       41.0   \n",
       "4           0            0                     1       2.0       30.0   \n",
       "...       ...          ...                   ...       ...        ...   \n",
       "15688       2            1                     1      32.0       16.0   \n",
       "15689       0            0                     1      10.0       27.0   \n",
       "15690       0            0                     1     365.0      216.0   \n",
       "15691       2            1                     1      71.0       20.0   \n",
       "15692       2            1                     1       2.0       28.0   \n",
       "\n",
       "       Commision   Age  Destination_Continent  1 way Comprehensive Plan  \\\n",
       "0           0.00  36.0                      1                         0   \n",
       "1           0.00  36.0                      1                         1   \n",
       "2           3.38  24.0                      1                         0   \n",
       "3           0.00  36.0                      1                         0   \n",
       "4           7.50  32.0                      1                         0   \n",
       "...          ...   ...                    ...                       ...   \n",
       "15688       0.00  36.0                      1                         0   \n",
       "15689       6.75  25.0                      1                         0   \n",
       "15690      54.00  49.0                      1                         0   \n",
       "15691       0.00  45.0                      1                         0   \n",
       "15692       0.00  36.0                      1                         0   \n",
       "\n",
       "       2 way Comprehensive Plan  ...  Premier Plan  \\\n",
       "0                             0  ...             0   \n",
       "1                             0  ...             0   \n",
       "2                             0  ...             0   \n",
       "3                             1  ...             0   \n",
       "4                             0  ...             0   \n",
       "...                         ...  ...           ...   \n",
       "15688                         0  ...             0   \n",
       "15689                         0  ...             0   \n",
       "15690                         0  ...             0   \n",
       "15691                         1  ...             0   \n",
       "15692                         0  ...             0   \n",
       "\n",
       "       Rental Vehicle Excess Insurance  Silver Plan  \\\n",
       "0                                    0            0   \n",
       "1                                    0            0   \n",
       "2                                    0            0   \n",
       "3                                    0            0   \n",
       "4                                    0            1   \n",
       "...                                ...          ...   \n",
       "15688                                0            0   \n",
       "15689                                0            0   \n",
       "15690                                0            0   \n",
       "15691                                0            0   \n",
       "15692                                0            0   \n",
       "\n",
       "       Single Trip Travel Protect Gold  Single Trip Travel Protect Platinum  \\\n",
       "0                                    0                                    0   \n",
       "1                                    0                                    0   \n",
       "2                                    0                                    0   \n",
       "3                                    0                                    0   \n",
       "4                                    0                                    0   \n",
       "...                                ...                                  ...   \n",
       "15688                                0                                    0   \n",
       "15689                                0                                    0   \n",
       "15690                                0                                    0   \n",
       "15691                                0                                    0   \n",
       "15692                                0                                    0   \n",
       "\n",
       "       Single Trip Travel Protect Silver  \\\n",
       "0                                      0   \n",
       "1                                      0   \n",
       "2                                      0   \n",
       "3                                      0   \n",
       "4                                      0   \n",
       "...                                  ...   \n",
       "15688                                  0   \n",
       "15689                                  0   \n",
       "15690                                  0   \n",
       "15691                                  0   \n",
       "15692                                  0   \n",
       "\n",
       "       Spouse or Parents Comprehensive Plan  Ticket Protector  \\\n",
       "0                                         0                 0   \n",
       "1                                         0                 0   \n",
       "2                                         0                 0   \n",
       "3                                         0                 0   \n",
       "4                                         0                 0   \n",
       "...                                     ...               ...   \n",
       "15688                                     0                 0   \n",
       "15689                                     0                 0   \n",
       "15690                                     0                 0   \n",
       "15691                                     0                 0   \n",
       "15692                                     0                 0   \n",
       "\n",
       "       Travel Cruise Protect  Value Plan  \n",
       "0                          0           0  \n",
       "1                          0           0  \n",
       "2                          0           0  \n",
       "3                          0           0  \n",
       "4                          0           0  \n",
       "...                      ...         ...  \n",
       "15688                      0           0  \n",
       "15689                      0           0  \n",
       "15690                      0           0  \n",
       "15691                      0           0  \n",
       "15692                      0           0  \n",
       "\n",
       "[15693 rows x 33 columns]"
      ]
     },
     "execution_count": 39,
     "metadata": {},
     "output_type": "execute_result"
    }
   ],
   "source": [
    "test_df.iloc[:15693,:]"
   ]
  },
  {
   "cell_type": "code",
   "execution_count": 40,
   "metadata": {},
   "outputs": [],
   "source": [
    "X = df.drop(columns='Claim')"
   ]
  },
  {
   "cell_type": "code",
   "execution_count": 41,
   "metadata": {},
   "outputs": [],
   "source": [
    "y = df[\"Claim\"]"
   ]
  },
  {
   "cell_type": "code",
   "execution_count": 42,
   "metadata": {},
   "outputs": [],
   "source": [
    "from sklearn.model_selection import train_test_split\n",
    "from sklearn.metrics import roc_auc_score , roc_curve,precision_score,recall_score,f1_score\n",
    "from sklearn.ensemble import RandomForestClassifier\n",
    "from sklearn.model_selection import GridSearchCV\n",
    "from sklearn.model_selection import KFold\n",
    "from sklearn.metrics import accuracy_score,confusion_matrix,classification_report\n",
    "from sklearn.linear_model import LogisticRegression\n",
    "from sklearn.metrics import auc"
   ]
  },
  {
   "cell_type": "code",
   "execution_count": 43,
   "metadata": {},
   "outputs": [],
   "source": [
    "X_train,X_test,y_train,y_test = train_test_split(X,y,test_size=0.3,random_state=0)"
   ]
  },
  {
   "cell_type": "code",
   "execution_count": 44,
   "metadata": {},
   "outputs": [
    {
     "data": {
      "text/plain": [
       "LogisticRegression(C=0.01)"
      ]
     },
     "execution_count": 44,
     "metadata": {},
     "output_type": "execute_result"
    }
   ],
   "source": [
    "from sklearn.linear_model import LogisticRegression\n",
    "lr = LogisticRegression(C=0.01,penalty='l2')\n",
    "lr.fit(X_train,y_train)\n",
    "y_pred_log = lr.predict(X_test)"
   ]
  },
  {
   "cell_type": "code",
   "execution_count": 45,
   "metadata": {},
   "outputs": [
    {
     "data": {
      "text/plain": [
       "0.8488498056458293"
      ]
     },
     "execution_count": 45,
     "metadata": {},
     "output_type": "execute_result"
    },
    {
     "data": {
      "text/plain": [
       "array([[12675,   404],\n",
       "       [ 1968,   646]], dtype=int64)"
      ]
     },
     "execution_count": 45,
     "metadata": {},
     "output_type": "execute_result"
    },
    {
     "data": {
      "text/plain": [
       "0.6152380952380953"
      ]
     },
     "execution_count": 45,
     "metadata": {},
     "output_type": "execute_result"
    }
   ],
   "source": [
    "lr.score(X_test,y_test)\n",
    "confusion_matrix(y_test,y_pred_log)\n",
    "precision_score(y_test,y_pred_log)"
   ]
  },
  {
   "cell_type": "code",
   "execution_count": 46,
   "metadata": {},
   "outputs": [
    {
     "data": {
      "text/plain": [
       "RandomForestClassifier(max_depth=50, min_samples_split=10, random_state=0)"
      ]
     },
     "execution_count": 46,
     "metadata": {},
     "output_type": "execute_result"
    },
    {
     "name": "stdout",
     "output_type": "stream",
     "text": [
      "\n",
      " 0.8352614530310042\n"
     ]
    }
   ],
   "source": [
    "rf = RandomForestClassifier(random_state=0,max_depth=50,n_estimators=100,min_samples_split=10)\n",
    "rf.fit(X_train,y_train)\n",
    "y_pred = rf.predict(X_test)\n",
    "print('\\n',precision_score(y_test,y_pred))"
   ]
  },
  {
   "cell_type": "code",
   "execution_count": 47,
   "metadata": {},
   "outputs": [],
   "source": [
    "from sklearn.ensemble import BaggingClassifier"
   ]
  },
  {
   "cell_type": "code",
   "execution_count": 48,
   "metadata": {},
   "outputs": [
    {
     "data": {
      "text/plain": [
       "BaggingClassifier(base_estimator=RandomForestClassifier(), n_jobs=-1,\n",
       "                  random_state=0)"
      ]
     },
     "execution_count": 48,
     "metadata": {},
     "output_type": "execute_result"
    }
   ],
   "source": [
    "bagging = BaggingClassifier(base_estimator= RandomForestClassifier(), n_estimators=10,random_state=0,n_jobs=-1)\n",
    "bagging.fit(X_train,y_train)\n",
    "y_pred_bagging = bagging.predict(X_test)"
   ]
  },
  {
   "cell_type": "code",
   "execution_count": 49,
   "metadata": {},
   "outputs": [
    {
     "data": {
      "text/plain": [
       "0.9260179697954501"
      ]
     },
     "execution_count": 49,
     "metadata": {},
     "output_type": "execute_result"
    },
    {
     "data": {
      "text/plain": [
       "array([[12661,   418],\n",
       "       [  743,  1871]], dtype=int64)"
      ]
     },
     "execution_count": 49,
     "metadata": {},
     "output_type": "execute_result"
    },
    {
     "data": {
      "text/plain": [
       "0.8173875054609"
      ]
     },
     "execution_count": 49,
     "metadata": {},
     "output_type": "execute_result"
    }
   ],
   "source": [
    "bagging.score(X_test,y_test)\n",
    "confusion_matrix(y_test,y_pred_bagging)\n",
    "precision_score(y_test,y_pred_bagging)"
   ]
  },
  {
   "cell_type": "code",
   "execution_count": 50,
   "metadata": {},
   "outputs": [
    {
     "data": {
      "text/plain": [
       "GradientBoostingClassifier(learning_rate=0.01, max_depth=5, n_estimators=80,\n",
       "                           random_state=0)"
      ]
     },
     "execution_count": 50,
     "metadata": {},
     "output_type": "execute_result"
    },
    {
     "name": "stdout",
     "output_type": "stream",
     "text": [
      "\n",
      " 1.0\n"
     ]
    }
   ],
   "source": [
    "from sklearn.ensemble import GradientBoostingClassifier\n",
    "gbclf = GradientBoostingClassifier(random_state=0,n_estimators=80,learning_rate=0.01,max_depth=5)\n",
    "gbclf.fit(X_train,y_train)\n",
    "y_pred_gb = gbclf.predict(X_test)\n",
    "print('\\n',precision_score(y_test,y_pred_gb))"
   ]
  },
  {
   "cell_type": "code",
   "execution_count": 51,
   "metadata": {},
   "outputs": [
    {
     "name": "stdout",
     "output_type": "stream",
     "text": [
      "Train acc: 0.8346942676898709\n",
      "Test acc: 0.8348308162875168\n"
     ]
    },
    {
     "data": {
      "text/plain": [
       "array([[13079,     0],\n",
       "       [ 2592,    22]], dtype=int64)"
      ]
     },
     "execution_count": 51,
     "metadata": {},
     "output_type": "execute_result"
    },
    {
     "name": "stdout",
     "output_type": "stream",
     "text": [
      "1.0\n"
     ]
    },
    {
     "data": {
      "text/plain": [
       "0.008416220351951033"
      ]
     },
     "execution_count": 51,
     "metadata": {},
     "output_type": "execute_result"
    },
    {
     "data": {
      "text/plain": [
       "0.01669195751138088"
      ]
     },
     "execution_count": 51,
     "metadata": {},
     "output_type": "execute_result"
    }
   ],
   "source": [
    "print('Train acc:',gbclf.score(X_train,y_train))\n",
    "print('Test acc:',gbclf.score(X_test,y_test))\n",
    "confusion_matrix(y_test,y_pred_gb)\n",
    "print(precision_score(y_test,y_pred_gb))\n",
    "recall_score(y_test,y_pred_gb)\n",
    "f1_score(y_test,y_pred_gb)"
   ]
  },
  {
   "cell_type": "code",
   "execution_count": 52,
   "metadata": {},
   "outputs": [
    {
     "data": {
      "text/html": [
       "<div>\n",
       "<style scoped>\n",
       "    .dataframe tbody tr th:only-of-type {\n",
       "        vertical-align: middle;\n",
       "    }\n",
       "\n",
       "    .dataframe tbody tr th {\n",
       "        vertical-align: top;\n",
       "    }\n",
       "\n",
       "    .dataframe thead th {\n",
       "        text-align: right;\n",
       "    }\n",
       "</style>\n",
       "<table border=\"1\" class=\"dataframe\">\n",
       "  <thead>\n",
       "    <tr style=\"text-align: right;\">\n",
       "      <th>col_0</th>\n",
       "      <th>0</th>\n",
       "      <th>1</th>\n",
       "    </tr>\n",
       "    <tr>\n",
       "      <th>Claim</th>\n",
       "      <th></th>\n",
       "      <th></th>\n",
       "    </tr>\n",
       "  </thead>\n",
       "  <tbody>\n",
       "    <tr>\n",
       "      <th>0</th>\n",
       "      <td>13079</td>\n",
       "      <td>0</td>\n",
       "    </tr>\n",
       "    <tr>\n",
       "      <th>1</th>\n",
       "      <td>2592</td>\n",
       "      <td>22</td>\n",
       "    </tr>\n",
       "  </tbody>\n",
       "</table>\n",
       "</div>"
      ],
      "text/plain": [
       "col_0      0   1\n",
       "Claim           \n",
       "0      13079   0\n",
       "1       2592  22"
      ]
     },
     "execution_count": 52,
     "metadata": {},
     "output_type": "execute_result"
    }
   ],
   "source": [
    "pd.crosstab(y_test,y_pred_gb)"
   ]
  },
  {
   "cell_type": "code",
   "execution_count": 53,
   "metadata": {},
   "outputs": [],
   "source": [
    "from xgboost import XGBClassifier"
   ]
  },
  {
   "cell_type": "code",
   "execution_count": 54,
   "metadata": {},
   "outputs": [
    {
     "data": {
      "text/plain": [
       "XGBClassifier(base_score=0.5, booster='gbtree', colsample_bylevel=1,\n",
       "              colsample_bynode=1, colsample_bytree=1, gamma=0, gpu_id=-1,\n",
       "              importance_type='gain', interaction_constraints='',\n",
       "              learning_rate=0.300000012, max_delta_step=0, max_depth=7,\n",
       "              min_child_weight=1, missing=nan, monotone_constraints='()',\n",
       "              n_estimators=96, n_jobs=0, num_parallel_tree=1, random_state=0,\n",
       "              reg_alpha=0, reg_lambda=1, scale_pos_weight=0.1, subsample=1,\n",
       "              tree_method='exact', validate_parameters=1, verbosity=None)"
      ]
     },
     "execution_count": 54,
     "metadata": {},
     "output_type": "execute_result"
    },
    {
     "data": {
      "text/plain": [
       "0.9841986455981941"
      ]
     },
     "execution_count": 54,
     "metadata": {},
     "output_type": "execute_result"
    }
   ],
   "source": [
    "xgbclf = XGBClassifier(random_state=0,max_depth=7,scale_pos_weight=0.1,n_estimators=96)\n",
    "xgbclf.fit(X_train,y_train)\n",
    "y_pred_xgbclf = xgbclf.predict(X_test)\n",
    "precision_score(y_test,y_pred_xgbclf)"
   ]
  },
  {
   "cell_type": "code",
   "execution_count": 55,
   "metadata": {},
   "outputs": [
    {
     "data": {
      "text/plain": [
       "0.8607659466003951"
      ]
     },
     "execution_count": 55,
     "metadata": {},
     "output_type": "execute_result"
    },
    {
     "data": {
      "text/plain": [
       "array([[13072,     7],\n",
       "       [ 2178,   436]], dtype=int64)"
      ]
     },
     "execution_count": 55,
     "metadata": {},
     "output_type": "execute_result"
    },
    {
     "data": {
      "text/plain": [
       "0.9841986455981941"
      ]
     },
     "execution_count": 55,
     "metadata": {},
     "output_type": "execute_result"
    }
   ],
   "source": [
    "xgbclf.score(X_test,y_test)\n",
    "confusion_matrix(y_test,y_pred_xgbclf)\n",
    "precision_score(y_test,y_pred_xgbclf)"
   ]
  },
  {
   "cell_type": "code",
   "execution_count": 56,
   "metadata": {},
   "outputs": [
    {
     "data": {
      "text/html": [
       "<div>\n",
       "<style scoped>\n",
       "    .dataframe tbody tr th:only-of-type {\n",
       "        vertical-align: middle;\n",
       "    }\n",
       "\n",
       "    .dataframe tbody tr th {\n",
       "        vertical-align: top;\n",
       "    }\n",
       "\n",
       "    .dataframe thead th {\n",
       "        text-align: right;\n",
       "    }\n",
       "</style>\n",
       "<table border=\"1\" class=\"dataframe\">\n",
       "  <thead>\n",
       "    <tr style=\"text-align: right;\">\n",
       "      <th></th>\n",
       "      <th>Agency</th>\n",
       "      <th>Agency_Type</th>\n",
       "      <th>Distribution_Channel</th>\n",
       "      <th>Product_Name</th>\n",
       "      <th>Duration</th>\n",
       "      <th>Net_Sales</th>\n",
       "      <th>Commision</th>\n",
       "      <th>Age</th>\n",
       "      <th>Destination_Continent</th>\n",
       "    </tr>\n",
       "  </thead>\n",
       "  <tbody>\n",
       "    <tr>\n",
       "      <th>0</th>\n",
       "      <td>2</td>\n",
       "      <td>1</td>\n",
       "      <td>1</td>\n",
       "      <td>Cancellation Plan</td>\n",
       "      <td>192.0</td>\n",
       "      <td>18.0</td>\n",
       "      <td>0.00</td>\n",
       "      <td>36.0</td>\n",
       "      <td>1</td>\n",
       "    </tr>\n",
       "    <tr>\n",
       "      <th>1</th>\n",
       "      <td>2</td>\n",
       "      <td>1</td>\n",
       "      <td>1</td>\n",
       "      <td>1 way Comprehensive Plan</td>\n",
       "      <td>2.0</td>\n",
       "      <td>20.0</td>\n",
       "      <td>0.00</td>\n",
       "      <td>36.0</td>\n",
       "      <td>1</td>\n",
       "    </tr>\n",
       "    <tr>\n",
       "      <th>2</th>\n",
       "      <td>0</td>\n",
       "      <td>0</td>\n",
       "      <td>1</td>\n",
       "      <td>Bronze Plan</td>\n",
       "      <td>13.0</td>\n",
       "      <td>13.5</td>\n",
       "      <td>3.38</td>\n",
       "      <td>24.0</td>\n",
       "      <td>1</td>\n",
       "    </tr>\n",
       "    <tr>\n",
       "      <th>3</th>\n",
       "      <td>2</td>\n",
       "      <td>1</td>\n",
       "      <td>1</td>\n",
       "      <td>2 way Comprehensive Plan</td>\n",
       "      <td>133.0</td>\n",
       "      <td>41.0</td>\n",
       "      <td>0.00</td>\n",
       "      <td>36.0</td>\n",
       "      <td>1</td>\n",
       "    </tr>\n",
       "    <tr>\n",
       "      <th>4</th>\n",
       "      <td>0</td>\n",
       "      <td>0</td>\n",
       "      <td>1</td>\n",
       "      <td>Silver Plan</td>\n",
       "      <td>2.0</td>\n",
       "      <td>30.0</td>\n",
       "      <td>7.50</td>\n",
       "      <td>32.0</td>\n",
       "      <td>1</td>\n",
       "    </tr>\n",
       "  </tbody>\n",
       "</table>\n",
       "</div>"
      ],
      "text/plain": [
       "   Agency  Agency_Type  Distribution_Channel              Product_Name  \\\n",
       "0       2            1                     1         Cancellation Plan   \n",
       "1       2            1                     1  1 way Comprehensive Plan   \n",
       "2       0            0                     1               Bronze Plan   \n",
       "3       2            1                     1  2 way Comprehensive Plan   \n",
       "4       0            0                     1               Silver Plan   \n",
       "\n",
       "   Duration  Net_Sales  Commision   Age  Destination_Continent  \n",
       "0     192.0       18.0       0.00  36.0                      1  \n",
       "1       2.0       20.0       0.00  36.0                      1  \n",
       "2      13.0       13.5       3.38  24.0                      1  \n",
       "3     133.0       41.0       0.00  36.0                      1  \n",
       "4       2.0       30.0       7.50  32.0                      1  "
      ]
     },
     "execution_count": 56,
     "metadata": {},
     "output_type": "execute_result"
    }
   ],
   "source": [
    "test.head()"
   ]
  },
  {
   "cell_type": "code",
   "execution_count": 104,
   "metadata": {},
   "outputs": [],
   "source": [
    "test_submission = gbclf.predict(test_df)"
   ]
  },
  {
   "cell_type": "code",
   "execution_count": 105,
   "metadata": {},
   "outputs": [],
   "source": [
    "submission = pd.DataFrame({\"ID\":test_id,\"Claim\":test_submission})"
   ]
  },
  {
   "cell_type": "code",
   "execution_count": 106,
   "metadata": {},
   "outputs": [],
   "source": [
    "submission.to_csv(\"submission.csv\",index=False)"
   ]
  },
  {
   "cell_type": "code",
   "execution_count": null,
   "metadata": {},
   "outputs": [],
   "source": []
  }
 ],
 "metadata": {
  "kernelspec": {
   "display_name": "Python 3",
   "language": "python",
   "name": "python3"
  },
  "language_info": {
   "codemirror_mode": {
    "name": "ipython",
    "version": 3
   },
   "file_extension": ".py",
   "mimetype": "text/x-python",
   "name": "python",
   "nbconvert_exporter": "python",
   "pygments_lexer": "ipython3",
   "version": "3.7.6"
  }
 },
 "nbformat": 4,
 "nbformat_minor": 2
}
